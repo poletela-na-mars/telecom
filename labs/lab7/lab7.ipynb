{
 "cells": [
  {
   "cell_type": "code",
   "execution_count": 29,
   "metadata": {
    "collapsed": true
   },
   "outputs": [
    {
     "name": "stdout",
     "output_type": "stream",
     "text": [
      "thinkdsp.py successfully download\n"
     ]
    }
   ],
   "source": [
    "from labs.install_deps import require_think_dsp\n",
    "\n",
    "require_think_dsp()"
   ]
  },
  {
   "cell_type": "markdown",
   "source": [
    "Упражнение 7.1\n",
    "Позапускаем примеры в блокноте chap07.ipynb."
   ],
   "metadata": {
    "collapsed": false
   }
  },
  {
   "cell_type": "markdown",
   "source": [
    "Упражнение 7.2\n",
    "Реализовать алгоритм БПФ (ключ к нему - лемма Дэниелсона-Ланцоша) сначала нерекурсивно, а затем рекурсивно."
   ],
   "metadata": {
    "collapsed": false
   }
  },
  {
   "cell_type": "markdown",
   "source": [
    "В качестве тестового примера начнем с небольшого сигнала и вычислим его БПФ."
   ],
   "metadata": {
    "collapsed": false
   }
  },
  {
   "cell_type": "code",
   "execution_count": 30,
   "outputs": [
    {
     "name": "stdout",
     "output_type": "stream",
     "text": [
      "[ 0.2+0.j  -1.2-0.2j  0.2+0.j  -1.2+0.2j]\n"
     ]
    }
   ],
   "source": [
    "import numpy as np\n",
    "\n",
    "ys = [-0.5, 0.1, 0.7, -0.1]\n",
    "hs = np.fft.fft(ys)\n",
    "print(hs)"
   ],
   "metadata": {
    "collapsed": false
   }
  },
  {
   "cell_type": "code",
   "execution_count": 31,
   "outputs": [],
   "source": [
    "PI2 = 2 * np.pi\n",
    "\n",
    "def dft(ys):\n",
    "    N = len(ys)\n",
    "    ts = np.arange(N) / N\n",
    "    freqs = np.arange(N)\n",
    "    args = np.outer(ts, freqs)\n",
    "    M = np.exp(1j * PI2 * args)\n",
    "    amps = M.conj().transpose().dot(ys)\n",
    "    return amps"
   ],
   "metadata": {
    "collapsed": false
   }
  },
  {
   "cell_type": "markdown",
   "source": [
    "Подтвердим, что эта реализация дает тот же результат."
   ],
   "metadata": {
    "collapsed": false
   }
  },
  {
   "cell_type": "code",
   "execution_count": 32,
   "outputs": [
    {
     "data": {
      "text/plain": "5.864775846765962e-16"
     },
     "execution_count": 32,
     "metadata": {},
     "output_type": "execute_result"
    }
   ],
   "source": [
    "hs2 = dft(ys)\n",
    "np.sum(np.abs(hs - hs2))"
   ],
   "metadata": {
    "collapsed": false
   }
  },
  {
   "cell_type": "markdown",
   "source": [
    "В качестве приближения к созданию рекурсивного БПФ начнем с версии, которая разбивает входной массив и использует np.fft.fft для вычисления БПФ половин."
   ],
   "metadata": {
    "collapsed": false
   }
  },
  {
   "cell_type": "code",
   "execution_count": 33,
   "outputs": [],
   "source": [
    "def fft_norec(ys):\n",
    "    N = len(ys)\n",
    "    He = np.fft.fft(ys[::2])\n",
    "    Ho = np.fft.fft(ys[1::2])\n",
    "\n",
    "    ns = np.arange(N)\n",
    "    W = np.exp(-1j * PI2 * ns / N)\n",
    "\n",
    "    return np.tile(He, 2) + W * np.tile(Ho, 2)"
   ],
   "metadata": {
    "collapsed": false
   }
  },
  {
   "cell_type": "markdown",
   "source": [
    "Получаем те же результаты."
   ],
   "metadata": {
    "collapsed": false
   }
  },
  {
   "cell_type": "code",
   "execution_count": 34,
   "outputs": [
    {
     "data": {
      "text/plain": "0.0"
     },
     "execution_count": 34,
     "metadata": {},
     "output_type": "execute_result"
    }
   ],
   "source": [
    "hs3 = fft_norec(ys)\n",
    "np.sum(np.abs(hs - hs3))"
   ],
   "metadata": {
    "collapsed": false
   }
  },
  {
   "cell_type": "markdown",
   "source": [
    "Мы можем заменить np.fft.fft рекурсивными вызовами и добавить базовый вариант."
   ],
   "metadata": {
    "collapsed": false
   }
  },
  {
   "cell_type": "code",
   "execution_count": 35,
   "outputs": [],
   "source": [
    "def fft(ys):\n",
    "    N = len(ys)\n",
    "    if N == 1:\n",
    "        return ys\n",
    "\n",
    "    He = fft(ys[::2])\n",
    "    Ho = fft(ys[1::2])\n",
    "\n",
    "    ns = np.arange(N)\n",
    "    W = np.exp(-1j * PI2 * ns / N)\n",
    "\n",
    "    return np.tile(He, 2) + W * np.tile(Ho, 2)"
   ],
   "metadata": {
    "collapsed": false
   }
  },
  {
   "cell_type": "markdown",
   "source": [
    "Получаем те же результаты."
   ],
   "metadata": {
    "collapsed": false
   }
  },
  {
   "cell_type": "code",
   "execution_count": 36,
   "outputs": [
    {
     "data": {
      "text/plain": "1.6653345369377348e-16"
     },
     "execution_count": 36,
     "metadata": {},
     "output_type": "execute_result"
    }
   ],
   "source": [
    "hs4 = fft(ys)\n",
    "np.sum(np.abs(hs - hs4))"
   ],
   "metadata": {
    "collapsed": false
   }
  },
  {
   "cell_type": "markdown",
   "source": [
    "Эта реализация БПФ занимает время, пропорциональное nlogn . Также занимает память, пропорциональную nlogn, и тратит некоторое время на создание и копирование массивов. Его можно улучшить для запуска \"на месте\"; в этом случае он не требует дополнительной памяти и тратит меньше времени на \"накладные расходы\"."
   ],
   "metadata": {
    "collapsed": false
   }
  },
  {
   "cell_type": "markdown",
   "source": [
    "**Теорема о сдвиге**\n",
    "\n",
    "Если дан смещенный во времени сигнал $s(t-t0)$ (запаздывание на t0), то Фурье–преобразование от этого сигнала будет:\n",
    "$F[s(t-t0)] = e^{-jwt0} S(jw)$, где\n",
    "$S(jw) = F[s(t)]$\n",
    "\n",
    "Таким образом, смещенный сигнал имеет спектральную плотность, отличающуюся лишь спектральной плотностью фаз.\n"
   ],
   "metadata": {
    "collapsed": false
   }
  },
  {
   "cell_type": "markdown",
   "source": [
    "**Теорема о свертке**\n",
    "\n",
    "Преобразование Фурье от свертки двух функций можно представить как произведение преобразований Фурье каждой из функцй:\n",
    "$F[g*h] = F[g]F[h]$\n",
    "\n",
    "Спектр свертки сигналов равен произведению спектров."
   ],
   "metadata": {
    "collapsed": false
   }
  },
  {
   "cell_type": "markdown",
   "source": [
    "**Вывод преобразования Фурье**"
   ],
   "metadata": {
    "collapsed": false
   }
  },
  {
   "cell_type": "markdown",
   "source": [
    "Отобразим исходный сигнал на комплексную плоскость. Это позволяет рассматривать точки на плоскости как комплексные числа и использовать формулу Эйлера для описания намотки:"
   ],
   "metadata": {
    "collapsed": false
   }
  },
  {
   "cell_type": "code",
   "execution_count": 37,
   "outputs": [],
   "source": [
    "from cmath import cos, sin\n",
    "\n",
    "def ei(phi):\n",
    "    return cos(phi) + 1j * sin(phi)"
   ],
   "metadata": {
    "collapsed": false
   }
  },
  {
   "cell_type": "markdown",
   "source": [
    "Геометрически это соотношение означает, что при любом φ точка eiφ на комплексной плоскости лежит на единичной окружности.\n",
    "Построим радиус-вектор eiφ при разных значениях φ."
   ],
   "metadata": {
    "collapsed": false
   }
  },
  {
   "cell_type": "code",
   "execution_count": 38,
   "outputs": [],
   "source": [
    "phis = np.arange(0, PI2, 0.001)\n",
    "complex_plane = [ei(phi) for phi in phis]"
   ],
   "metadata": {
    "collapsed": false
   }
  },
  {
   "cell_type": "code",
   "execution_count": 39,
   "outputs": [
    {
     "data": {
      "text/plain": "<Figure size 432x288 with 1 Axes>",
      "image/png": "[encoded data removed]"
     },
     "metadata": {
      "needs_background": "light"
     },
     "output_type": "display_data"
    }
   ],
   "source": [
    "import matplotlib.pyplot as plt\n",
    "fig, ax = plt.subplots()\n",
    "ax.scatter([z.real for z in complex_plane], [z.imag for z in complex_plane])\n",
    "ax.grid(True)\n",
    "ax.set_aspect('equal', adjustable='box')\n",
    "plt.xlim(-1.5, 1.5)\n",
    "plt.ylim(-1.5, 1.5)\n",
    "\n",
    "ax.set_title(\"complex numbers\", va='bottom')\n",
    "plt.show()"
   ],
   "metadata": {
    "collapsed": false
   }
  },
  {
   "cell_type": "markdown",
   "source": [
    "При изменении φ на 2π вектор проходит полный оборот против часовой стрелки, так как 2π – длина единичной окружности. Чтобы задать скорость вращения вектора, показатель степени домножаем на ft, а для смены направления вращения – на -1.\n",
    "\n",
    "Тогда намотка сигнала:"
   ],
   "metadata": {
    "collapsed": false
   }
  },
  {
   "cell_type": "code",
   "execution_count": 40,
   "outputs": [],
   "source": [
    "def signal_winding(ys, t, f): return ys[t] * ei(-PI2 * f * t)"
   ],
   "metadata": {
    "collapsed": false
   }
  },
  {
   "cell_type": "markdown",
   "source": [
    "Теперь вычисляем центр масс. Для этого отметим i произвольных точек на графике намотки и вычислим среднее:"
   ],
   "metadata": {
    "collapsed": false
   }
  },
  {
   "cell_type": "code",
   "execution_count": 41,
   "outputs": [],
   "source": [
    "def mass_center(ys, f):\n",
    "    return np.mean([signal_winding(ys, i, f) for i in range(len(ys))])"
   ],
   "metadata": {
    "collapsed": false
   }
  }
 ],
 "metadata": {
  "kernelspec": {
   "display_name": "Python 3",
   "language": "python",
   "name": "python3"
  },
  "language_info": {
   "codemirror_mode": {
    "name": "ipython",
    "version": 2
   },
   "file_extension": ".py",
   "mimetype": "text/x-python",
   "name": "python",
   "nbconvert_exporter": "python",
   "pygments_lexer": "ipython2",
   "version": "2.7.6"
  }
 },
 "nbformat": 4,
 "nbformat_minor": 0
}
